{
  "nbformat": 4,
  "nbformat_minor": 0,
  "metadata": {
    "colab": {
      "provenance": [],
      "authorship_tag": "ABX9TyPlRCBBoFk0iO6mpPgagKZm",
      "include_colab_link": true
    },
    "kernelspec": {
      "name": "python3",
      "display_name": "Python 3"
    },
    "language_info": {
      "name": "python"
    }
  },
  "cells": [
    {
      "cell_type": "markdown",
      "metadata": {
        "id": "view-in-github",
        "colab_type": "text"
      },
      "source": [
        "<a href=\"https://colab.research.google.com/github/qilin512/OUC-ComputerVision/blob/main/Texton/Textons.ipynb\" target=\"_parent\"><img src=\"https://colab.research.google.com/assets/colab-badge.svg\" alt=\"Open In Colab\"/></a>"
      ]
    },
    {
      "cell_type": "markdown",
      "source": [
        "# Textons\n",
        "\n"
      ],
      "metadata": {
        "id": "2iIpxkLs3KhR"
      }
    },
    {
      "cell_type": "markdown",
      "source": [
        "## LM filter bank\n",
        "\n",
        "著名的牛津大学的VVG组提供了多种filter bank的[Matlab代码](https://www.robots.ox.ac.uk/~vgg/research/texclass/filters.html)。网上有人做了[Python的实现](https://github.com/tonyjo/LM_filter_bank_python)。这份代码有bug，输出结果和Matlab的不一致，我把这个仓库fork了一份，并修正了其中的bug，稍后会给原作者提PR。本次作业请使用我修改后的[Python代码](https://github.com/qilin512/LM_filter_bank_python/blob/master/lm.py)。\n",
        "\n",
        "输出的F矩阵（3维数组）包含了48个滤波器，每个都是49*49。"
      ],
      "metadata": {
        "id": "lzpU0D873dx7"
      }
    },
    {
      "cell_type": "code",
      "execution_count": null,
      "metadata": {
        "id": "LqhBmXjH3Jm0"
      },
      "outputs": [],
      "source": [
        "# 将我修改后的代码构造filter bank"
      ]
    },
    {
      "cell_type": "markdown",
      "source": [
        "## 聚类\n",
        "\n",
        "使用LM filter bank对图像进行滤波，"
      ],
      "metadata": {
        "id": "qD96BGSA7QXG"
      }
    }
  ]
}