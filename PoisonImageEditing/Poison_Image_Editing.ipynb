{
  "cells": [
    {
      "cell_type": "markdown",
      "metadata": {
        "id": "view-in-github",
        "colab_type": "text"
      },
      "source": [
        "<a href=\"https://colab.research.google.com/github/qilin512/OUC-ComputerVision/blob/main/PoisonImageEditing/Poison_Image_Editing.ipynb\" target=\"_parent\"><img src=\"https://colab.research.google.com/assets/colab-badge.svg\" alt=\"Open In Colab\"/></a>"
      ]
    },
    {
      "cell_type": "markdown",
      "metadata": {
        "id": "9z6Cm29MDBk8"
      },
      "source": [
        "# Poison Image Editing"
      ]
    },
    {
      "cell_type": "markdown",
      "metadata": {
        "id": "kuxlSESiDBlB"
      },
      "source": [
        "[有代码的中文博客](https://blog.csdn.net/weixin_43194305/article/details/104928378)，这篇算是写的最清晰详细的，并对泊松方程的解法有介绍。\n",
        "\n",
        "[一篇知乎上的解读文章](https://zhuanlan.zhihu.com/p/453095752)。\n",
        "\n",
        "[这篇](https://blog.csdn.net/zhaoyin214/article/details/88196575)中文参考资料，详细的图文解释。\n",
        "\n",
        "这是一篇英文的参考资料: [An Intuitive Explanation of using Poisson Blending for Seamless Copy-and-Paste of Images](https://erkaman.github.io/posts/poisson_blending.html)，文章末尾有作者的C++代码实现。\n",
        "\n",
        "另外一篇比较详细的[英文资料](https://www.ctralie.com/Teaching/PoissonImageEditing/)，文后也有作者实现的Java代码。\n",
        "\n",
        "MATLAB社区的[代码](https://ww2.mathworks.cn/matlabcentral/fileexchange/62287-poisson-image-editing)，有GUI可交互操作。"
      ]
    },
    {
      "cell_type": "markdown",
      "metadata": {
        "id": "Y3X1vOicDBlC"
      },
      "source": [
        "国外计算机课程将其作为经典方法留作作业：\n",
        "\n",
        "- UIUC在2017年的课程CS445 Computational Photography，有[该作业](https://courses.engr.illinois.edu/cs445/fa2017/projects/gradient/ComputationalPhotography_ProjectGradient.html)。\n",
        "- 布朗大学(Brown)也有类似的[作业](https://cs.brown.edu/courses/csci1290/asgn/proj3_poisson/index.html)。"
      ]
    },
    {
      "cell_type": "markdown",
      "source": [
        "参考图像（大部分来自论文原文中使用的图像）在压缩包里一起打包了（img文件夹）。"
      ],
      "metadata": {
        "id": "qcDtfl_XPCAF"
      }
    },
    {
      "cell_type": "code",
      "source": [
        "import numpy as np\n",
        "\n",
        "\n",
        "def PoisonEditing(obj, dst, mask, center, mix_grad=False):\n",
        "    return result"
      ],
      "metadata": {
        "id": "SNi0u1VQujPx"
      },
      "execution_count": null,
      "outputs": []
    },
    {
      "cell_type": "code",
      "source": [
        "import cv2\n",
        "import numpy as np\n",
        "\n",
        "\n",
        "# 读取前景图像\n",
        "obj = cv2.imread('')\n",
        "\n",
        "\n",
        "# 读取背景图像\n",
        "dst = cv2.imread('')\n",
        "\n",
        "# 读取设置好的mask\n",
        "mask = cv2.imread('')\n",
        "\n",
        "# 设置obj拷贝到dst的位置（中心像素）\n",
        "# 要填充的obj是不规则形状，这里要获得该不规则区域的最小外接矩形（bounding box），\n",
        "# 以该最小外接矩形的中心作为obj在dst中的位置\n",
        "center = (cx, cy)\n",
        "\n",
        "# 调用Poison方法，需要自己复现\n",
        "result = PoisonEditing(obj, dst, mask, center)\n",
        "\n",
        "# 参考OpenCV实现的方法\n",
        "# normal_clone = cv2.seamlessClone(obj, dst, mask, center, cv2.NORMAL_CLONE)\n",
        "# mixed_clone = cv2.seamlessClone(obj, dst, mask, center, cv2.MIXED_CLONE)"
      ],
      "metadata": {
        "id": "_NreelprsKG-"
      },
      "execution_count": null,
      "outputs": []
    }
  ],
  "metadata": {
    "language_info": {
      "name": "python"
    },
    "orig_nbformat": 4,
    "colab": {
      "provenance": [],
      "include_colab_link": true
    },
    "accelerator": "GPU",
    "gpuClass": "standard",
    "kernelspec": {
      "name": "python3",
      "display_name": "Python 3"
    }
  },
  "nbformat": 4,
  "nbformat_minor": 0
}