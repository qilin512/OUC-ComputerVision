{
  "cells": [
    {
      "cell_type": "markdown",
      "metadata": {
        "id": "view-in-github",
        "colab_type": "text"
      },
      "source": [
        "<a href=\"https://colab.research.google.com/github/qilin512/OUC-ComputerVision/blob/main/PoisonImageEditing/Poison_Image_Editing.ipynb\" target=\"_parent\"><img src=\"https://colab.research.google.com/assets/colab-badge.svg\" alt=\"Open In Colab\"/></a>"
      ]
    },
    {
      "cell_type": "markdown",
      "metadata": {
        "id": "9z6Cm29MDBk8"
      },
      "source": [
        "# Poison Image Editing"
      ]
    },
    {
      "cell_type": "markdown",
      "metadata": {
        "id": "kuxlSESiDBlB"
      },
      "source": [
        "[有代码的中文博客](https://blog.csdn.net/weixin_43194305/article/details/104928378)。\n",
        "\n",
        "[一篇知乎上的解读文章](https://zhuanlan.zhihu.com/p/453095752)。\n",
        "\n",
        "[这篇](https://blog.csdn.net/zhaoyin214/article/details/88196575)中文参考资料，详细的图文解释。\n",
        "\n",
        "这是一篇英文的参考资料: [An Intuitive Explanation of using Poisson Blending for Seamless Copy-and-Paste of Images](https://erkaman.github.io/posts/poisson_blending.html)，文章末尾有作者的C++代码实现。\n",
        "\n",
        "另外一篇比较详细的[英文资料](https://www.ctralie.com/Teaching/PoissonImageEditing/)，文后也有作者实现的Java代码。"
      ]
    },
    {
      "cell_type": "markdown",
      "metadata": {
        "id": "Y3X1vOicDBlC"
      },
      "source": [
        "国外计算机课程将其作为经典方法留作作业：\n",
        "\n",
        "- UIUC在2017年的课程CS445 Computational Photography，有[该作业](https://courses.engr.illinois.edu/cs445/fa2017/projects/gradient/ComputationalPhotography_ProjectGradient.html)。\n",
        "- 布朗大学(Brown)也有类似的[作业](https://cs.brown.edu/courses/csci1290/asgn/proj3_poisson/index.html)。"
      ]
    },
    {
      "cell_type": "code",
      "source": [
        "import this"
      ],
      "metadata": {
        "id": "wOJ3JqVkDEvb",
        "outputId": "2887df9d-b113-4ce5-dfa3-7551e2d24137",
        "colab": {
          "base_uri": "https://localhost:8080/"
        }
      },
      "execution_count": 1,
      "outputs": [
        {
          "output_type": "stream",
          "name": "stdout",
          "text": [
            "The Zen of Python, by Tim Peters\n",
            "\n",
            "Beautiful is better than ugly.\n",
            "Explicit is better than implicit.\n",
            "Simple is better than complex.\n",
            "Complex is better than complicated.\n",
            "Flat is better than nested.\n",
            "Sparse is better than dense.\n",
            "Readability counts.\n",
            "Special cases aren't special enough to break the rules.\n",
            "Although practicality beats purity.\n",
            "Errors should never pass silently.\n",
            "Unless explicitly silenced.\n",
            "In the face of ambiguity, refuse the temptation to guess.\n",
            "There should be one-- and preferably only one --obvious way to do it.\n",
            "Although that way may not be obvious at first unless you're Dutch.\n",
            "Now is better than never.\n",
            "Although never is often better than *right* now.\n",
            "If the implementation is hard to explain, it's a bad idea.\n",
            "If the implementation is easy to explain, it may be a good idea.\n",
            "Namespaces are one honking great idea -- let's do more of those!\n"
          ]
        }
      ]
    }
  ],
  "metadata": {
    "language_info": {
      "name": "python"
    },
    "orig_nbformat": 4,
    "colab": {
      "provenance": [],
      "include_colab_link": true
    },
    "accelerator": "GPU",
    "gpuClass": "standard",
    "kernelspec": {
      "name": "python3",
      "display_name": "Python 3"
    }
  },
  "nbformat": 4,
  "nbformat_minor": 0
}