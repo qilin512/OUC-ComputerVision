{
 "cells": [
  {
   "cell_type": "markdown",
   "metadata": {},
   "source": [
    "# Poison Image Editing"
   ]
  },
  {
   "cell_type": "markdown",
   "metadata": {},
   "source": [
    "[有代码的中文博客](https://blog.csdn.net/weixin_43194305/article/details/104928378)。\n",
    "\n",
    "[一篇知乎上的解读文章](https://zhuanlan.zhihu.com/p/453095752)。\n",
    "\n",
    "[这篇](https://blog.csdn.net/zhaoyin214/article/details/88196575)中文参考资料，详细的图文解释。\n",
    "\n",
    "这是一篇英文的参考资料: [An Intuitive Explanation of using Poisson Blending for Seamless Copy-and-Paste of Images](https://erkaman.github.io/posts/poisson_blending.html)，文章末尾有作者的C++代码实现。\n",
    "\n",
    "另外一篇比较详细的[英文资料](https://www.ctralie.com/Teaching/PoissonImageEditing/)，文后也有作者实现的Java代码。"
   ]
  },
  {
   "cell_type": "markdown",
   "metadata": {},
   "source": [
    "国外计算机课程将其作为经典方法留作作业：\n",
    "\n",
    "- UIUC在2017年的课程CS445 Computational Photography，有[该作业](https://courses.engr.illinois.edu/cs445/fa2017/projects/gradient/ComputationalPhotography_ProjectGradient.html)。\n",
    "- 布朗大学(Brown)也有类似的[作业](https://cs.brown.edu/courses/csci1290/asgn/proj3_poisson/index.html)。"
   ]
  }
 ],
 "metadata": {
  "language_info": {
   "name": "python"
  },
  "orig_nbformat": 4
 },
 "nbformat": 4,
 "nbformat_minor": 2
}
